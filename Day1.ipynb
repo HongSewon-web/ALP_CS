{
  "nbformat": 4,
  "nbformat_minor": 0,
  "metadata": {
    "colab": {
      "provenance": [],
      "toc_visible": true,
      "authorship_tag": "ABX9TyNMrsygaAJPPIMA4W2SEfAk",
      "include_colab_link": true
    },
    "kernelspec": {
      "name": "python3",
      "display_name": "Python 3"
    },
    "language_info": {
      "name": "python"
    }
  },
  "cells": [
    {
      "cell_type": "markdown",
      "metadata": {
        "id": "view-in-github",
        "colab_type": "text"
      },
      "source": [
        "<a href=\"https://colab.research.google.com/github/HongSewon-web/ALP_CS/blob/main/Day1.ipynb\" target=\"_parent\"><img src=\"https://colab.research.google.com/assets/colab-badge.svg\" alt=\"Open In Colab\"/></a>"
      ]
    },
    {
      "cell_type": "markdown",
      "source": [
        "#Day1"
      ],
      "metadata": {
        "id": "mXGesXxSxxHd"
      }
    },
    {
      "cell_type": "markdown",
      "source": [
        "# Programming Variables"
      ],
      "metadata": {
        "id": "sWyofz3OLqQn"
      }
    },
    {
      "cell_type": "markdown",
      "source": [
        "###Task1\n",
        "on name='Axl', 'Axl' gets into the name1(memory)\n",
        "after we \" print(name) \", the computer tries to print name and access the memory, getting out 'Axl'"
      ],
      "metadata": {
        "id": "dPxchdGeVz9I"
      }
    },
    {
      "cell_type": "code",
      "source": [
        "name = 'Axl'\n",
        "print(name)"
      ],
      "metadata": {
        "id": "BgjhPOkBVhqc"
      },
      "execution_count": null,
      "outputs": []
    },
    {
      "cell_type": "markdown",
      "source": [
        "###Task2"
      ],
      "metadata": {
        "id": "GeqvERNgVnJa"
      }
    },
    {
      "cell_type": "code",
      "source": [
        "#You can Combine variables with strings in an output\n",
        "name1=\"Axl\"\n",
        "name2=\"Slash\"\n",
        "#Add 2 more variables to store 'Duff' and 'Izzy'\n",
        "name3='Duff'\n",
        "name4='Izzy'\n",
        "\n",
        "print(name1+\" and \"+name2+\" and \"+name3+\" and \"+name4)"
      ],
      "metadata": {
        "id": "qSkv4J9zVnT2"
      },
      "execution_count": null,
      "outputs": []
    },
    {
      "cell_type": "markdown",
      "source": [
        "###Task3"
      ],
      "metadata": {
        "id": "AsQS7ow0VnaM"
      }
    },
    {
      "cell_type": "code",
      "source": [
        "name=\"Sewon\"\n",
        "favFood=\"kimchi jjigae\"\n",
        "print(name)\n",
        "print(favFood)\n",
        "print(\"My name is \"+name)\n",
        "print(\"My favorite food is \"+favFood+\", which is a food from Korea\")\n",
        "print(\"My name is \"+name+\" and my favorite food is \"+favFood)"
      ],
      "metadata": {
        "id": "mzYF_hynVnhW"
      },
      "execution_count": null,
      "outputs": []
    },
    {
      "cell_type": "markdown",
      "source": [
        "#Programming Input"
      ],
      "metadata": {
        "id": "MLyMwPu2WTAX"
      }
    },
    {
      "cell_type": "markdown",
      "source": [
        "###Task1\n",
        "expect: Hi Dave! How are you today?"
      ],
      "metadata": {
        "id": "ZAhSCb9FYAkv"
      }
    },
    {
      "cell_type": "markdown",
      "source": [
        "###Task2\n",
        "\"Hi What's your name?\" will be printed,\n",
        "then as \"Dave\" gets into the variable, name,\n",
        "print(\"Hi \"+name+\"! How are you today?\") is printed out Hi Dave! How are you today?"
      ],
      "metadata": {
        "id": "DbyyD6CwYCJ_"
      }
    },
    {
      "cell_type": "code",
      "source": [
        "print(\"What is your name\")\n",
        "name=input()\n",
        "print(\"Hi \"+name+\"! How are you today?\")"
      ],
      "metadata": {
        "id": "vyl8sTiBYBKY"
      },
      "execution_count": null,
      "outputs": []
    },
    {
      "cell_type": "markdown",
      "source": [
        "###Task3"
      ],
      "metadata": {
        "id": "QZpPN_kfYBSQ"
      }
    },
    {
      "cell_type": "code",
      "source": [
        "name=input(\"What's your name?\")"
      ],
      "metadata": {
        "id": "0bpgV59WYbET"
      },
      "execution_count": null,
      "outputs": []
    },
    {
      "cell_type": "markdown",
      "source": [
        "### Task4"
      ],
      "metadata": {
        "id": "6p-A_yGNYbMD"
      }
    },
    {
      "cell_type": "markdown",
      "source": [
        "### Task5"
      ],
      "metadata": {
        "id": "amJWi5FzYbbA"
      }
    },
    {
      "cell_type": "code",
      "source": [
        "name=input(\"What's your name?\")\n",
        "print(\"We want to know if you like programming!\")\n",
        "print()\n",
        "answer=input(\"Do you like programming, \"+ name +\"?\")\n",
        "print(\"Great! You said\" + answer + \"!\")\n",
        "print(\"Let's learn some Python today\")\n"
      ],
      "metadata": {
        "id": "vsjGFldpYbhH"
      },
      "execution_count": null,
      "outputs": []
    },
    {
      "cell_type": "markdown",
      "source": [
        "### Programming Chat-Bot"
      ],
      "metadata": {
        "id": "ppr9IowYYuiD"
      }
    },
    {
      "cell_type": "code",
      "source": [
        "name=input(\"Hi Nice to meet you! What's your name?\")\n",
        "ans=input(f\"{name} Is your name right?\")\n",
        "if \"NO\" in ans.upper():\n",
        "  while True:\n",
        "    name=input(\"Then, what's your name?\")\n",
        "    ans=input(f\"{name} Is your name right?\")\n",
        "    if \"NO\" not in ans.upper():\n",
        "      break\n",
        "print(\"Wow that's a good name, \"+name+\"! My name is ChatBot!\")\n",
        "howAreYou=input(f\"{name} how are you today?\")\n",
        "print(\"Oh I see, hope you have a great day, \"+name+\"!\")\n",
        "country=input(f\"I'm from Internet! Where are you from, {name}?\")\n",
        "print(country, \"Oh you from \"+country+\", that's nice!\")\n",
        "color=input(f\"What color is your favorite color, {name}?\")\n",
        "print(\"Oh I love that color too!\")\n",
        "print(\"So your name is \"+name+\" and you are from \"+country+\" and your favorite color is \"+color+\"!\")"
      ],
      "metadata": {
        "colab": {
          "base_uri": "https://localhost:8080/"
        },
        "id": "q9pI-LwSYuyY",
        "outputId": "45e81932-f6c0-414a-e9ff-d45d0612ed99"
      },
      "execution_count": null,
      "outputs": [
        {
          "output_type": "stream",
          "name": "stdout",
          "text": [
            "Hi Nice to meet you! What's your name?Sewon\n",
            "Sewon Is your name right?No\n",
            "Then, what's your name?Hong\n",
            "Hong Is your name right?yes\n",
            "Wow that's a good name, Hong! My name is ChatBot!\n",
            "Hong how are you today?bad\n",
            "Oh I see, hope you have a great day, Hong!\n",
            "I'm from Internet! Where are you from, Hong?Korea\n",
            "Korea Oh you from Korea, that's nice!\n",
            "What color is your favorite color, Hong?blue\n",
            "Oh I love that color too!\n",
            "So your name is Hong and you are from Korea and your favorite color is blue!\n"
          ]
        }
      ]
    },
    {
      "cell_type": "markdown",
      "source": [
        "#Programming operators"
      ],
      "metadata": {
        "id": "3SkjSEs_fa8t"
      }
    },
    {
      "cell_type": "markdown",
      "source": [
        "###Task1"
      ],
      "metadata": {
        "id": "6_Lp9T1CfgfA"
      }
    },
    {
      "cell_type": "code",
      "source": [
        "print(8+2)\n",
        "print(8-2)\n",
        "print(8*2)\n",
        "print(8/2)\n",
        "print(8//2)\n",
        "\n",
        "score=0\n",
        "print(score)\n",
        "score=10\n",
        "print(score)\n",
        "score=score+1\n",
        "print(score)\n",
        "\n",
        "num1=int(input(\"Enter a number \"))"
      ],
      "metadata": {
        "colab": {
          "base_uri": "https://localhost:8080/"
        },
        "id": "H4rmTjZjfgo6",
        "outputId": "35df7f0e-b187-4c9e-8768-4cddad63615a"
      },
      "execution_count": null,
      "outputs": [
        {
          "name": "stdout",
          "output_type": "stream",
          "text": [
            "10\n",
            "6\n",
            "16\n",
            "4.0\n",
            "4\n",
            "0\n",
            "10\n",
            "11\n",
            "Enter a number 522164\n"
          ]
        }
      ]
    },
    {
      "cell_type": "markdown",
      "source": [
        "###Task5 - Homework - Area Calculator"
      ],
      "metadata": {
        "id": "XdA6Ve-Ti1sY"
      }
    },
    {
      "cell_type": "code",
      "source": [
        "width=int(input(\"input width \"))\n",
        "length=int(input(\"input length \"))\n",
        "print(\"The area of the rectangle is \", width*length )"
      ],
      "metadata": {
        "colab": {
          "base_uri": "https://localhost:8080/"
        },
        "id": "0wgGN885i1zZ",
        "outputId": "870fa639-a3c8-4956-ed34-384c88844cfd"
      },
      "execution_count": null,
      "outputs": [
        {
          "output_type": "stream",
          "name": "stdout",
          "text": [
            "input width6\n",
            "input length0\n",
            "The area of the rectangle is  0\n"
          ]
        }
      ]
    },
    {
      "cell_type": "code",
      "source": [
        "width=int(input(\"input width \"))\n",
        "length=int(input(\"input length \"))\n",
        "print(\"The perimeter of the rectangle is \", 2*(width+length) )"
      ],
      "metadata": {
        "id": "NA22ExC4lVsi"
      },
      "execution_count": null,
      "outputs": []
    },
    {
      "cell_type": "code",
      "source": [
        "priceOfMeal=int(input(\"input price of meal \"))\n",
        "print(\"The tip is \", priceOfMeal*0.2)\n",
        "print(\"The total price is \", priceOfMeal*1.2)"
      ],
      "metadata": {
        "colab": {
          "base_uri": "https://localhost:8080/"
        },
        "id": "ErI0xYtPlVv4",
        "outputId": "3a0c6b17-338f-4fd4-bf7b-e4d51088a7d4"
      },
      "execution_count": null,
      "outputs": [
        {
          "output_type": "stream",
          "name": "stdout",
          "text": [
            "input price of meal 1000\n",
            "The tip is  200.0\n",
            "The total price is  1200.0\n"
          ]
        }
      ]
    },
    {
      "cell_type": "code",
      "source": [
        "width=int(input(\"input width \"))\n",
        "length=int(input(\"input length \"))\n",
        "height=int(input(\"input height \"))\n",
        "print(\"The volume of the cube is \", height*width*length )\n",
        "print(\"The surface area of the cube is \", 2*(height*width+height*length+width*length))"
      ],
      "metadata": {
        "colab": {
          "base_uri": "https://localhost:8080/"
        },
        "id": "eB5WWyH6lVyo",
        "outputId": "fcf7fdc1-58c5-4f66-dff1-70eeecd3a1c5"
      },
      "execution_count": null,
      "outputs": [
        {
          "output_type": "stream",
          "name": "stdout",
          "text": [
            "input width 6\n",
            "input length 2\n",
            "input height 33\n",
            "The volume of the cube is  396\n",
            "The surface area of the cube is  552\n"
          ]
        }
      ]
    },
    {
      "cell_type": "markdown",
      "source": [
        "#Programming Boolean"
      ],
      "metadata": {
        "id": "rCUL-2CGriY2"
      }
    },
    {
      "cell_type": "code",
      "source": [
        "num1=100\n",
        "num2=50\n",
        "if num1>num2:\n",
        "  print(\"num1 is bigger\")\n",
        "else:\n",
        "  print(\"num2 is bigger\")\n",
        "print(\"End of program\")"
      ],
      "metadata": {
        "colab": {
          "base_uri": "https://localhost:8080/"
        },
        "id": "x4npecjIrigL",
        "outputId": "4193811b-f061-4b7a-dd78-44418f5da372"
      },
      "execution_count": null,
      "outputs": [
        {
          "output_type": "stream",
          "name": "stdout",
          "text": [
            "num1 is bigger\n",
            "End of program\n"
          ]
        }
      ]
    },
    {
      "cell_type": "markdown",
      "source": [
        "###Task3 The login checker"
      ],
      "metadata": {
        "id": "DqtoYHtBuHcW"
      }
    },
    {
      "cell_type": "code",
      "source": [
        "password=1337\n",
        "ans=int(input(\"Guess the password!\"))\n",
        "if password==ans:\n",
        "  print(\"Password correct\")\n",
        "else:\n",
        "  print(\"Password incorrect\")"
      ],
      "metadata": {
        "colab": {
          "base_uri": "https://localhost:8080/"
        },
        "id": "CubOLBO6uHjN",
        "outputId": "e60bacc5-7875-4855-9d74-5554dd8e2e68"
      },
      "execution_count": null,
      "outputs": [
        {
          "output_type": "stream",
          "name": "stdout",
          "text": [
            "Guess the password!1337\n",
            "Password correct\n"
          ]
        }
      ]
    },
    {
      "cell_type": "markdown",
      "source": [
        "###Task4 Biggest Number"
      ],
      "metadata": {
        "id": "9iLEzaAtuPDi"
      }
    },
    {
      "cell_type": "code",
      "source": [
        "n,m=map(int,input(\"input two numbers a the blank \").strip().split())\n",
        "if n>=m:\n",
        "  print(n)\n",
        "else:\n",
        "  print(m)\n",
        "\n",
        "#print(max(n,m))"
      ],
      "metadata": {
        "colab": {
          "base_uri": "https://localhost:8080/"
        },
        "id": "WwPk0dERuPOb",
        "outputId": "661d75c8-d701-4f13-92ad-7574dd6ee3e8"
      },
      "execution_count": null,
      "outputs": [
        {
          "output_type": "stream",
          "name": "stdout",
          "text": [
            "input two numbers a the blank 5625632452145 14521452145145\n",
            "14521452145145\n"
          ]
        }
      ]
    },
    {
      "cell_type": "markdown",
      "source": [
        "#elif"
      ],
      "metadata": {
        "id": "vk9mCkn75PzQ"
      }
    },
    {
      "cell_type": "markdown",
      "source": [
        "###Task"
      ],
      "metadata": {
        "id": "w0UyFoqx6CCe"
      }
    },
    {
      "cell_type": "code",
      "source": [
        "name=input(\"What's your name?\")\n",
        "subject=input(\"What's your subject? You should write it correctly.\")\n",
        "if subject==\"Computer Science\":\n",
        "  print(\"Hi\", name+\". Go to room 401 for \"+subject)\n",
        "elif subject==\"Physics\":\n",
        "  print(\"Hi\", name+\". Go to room 302 for \"+subject)\n",
        "elif subject==\"Calculus\":\n",
        "  print(\"Hi\", name+\". Go to room 203 for \"+subject)\n",
        "elif subject==\"Linear Algebra\":\n",
        "  print(\"Hi\", name+\". Go to room 104 for \"+subject)\n",
        "else:\n",
        "  print(\"there is no classroom for \"+subject)"
      ],
      "metadata": {
        "colab": {
          "base_uri": "https://localhost:8080/"
        },
        "id": "RMp1MUwA5U-b",
        "outputId": "5c20e8a5-eeb1-4392-d03d-bf177e13fd27"
      },
      "execution_count": null,
      "outputs": [
        {
          "output_type": "stream",
          "name": "stdout",
          "text": [
            "What's your name?Sewon\n",
            "What's your subject?Physics\n",
            "Hi Sewon. go to room 302 for Physics\n"
          ]
        }
      ]
    },
    {
      "cell_type": "markdown",
      "source": [
        "### Extra Challenge-The INSULT-O-MATIC 5000"
      ],
      "metadata": {
        "id": "LnNnoTXU9sg9"
      }
    },
    {
      "cell_type": "code",
      "source": [
        "name=input(\"What's your name?\")\n",
        "num=input(\"Choose a number betweeen 1 and 5\")\n",
        "if num not in range(1,6):\n",
        "  print(name, \"are you dumb? You can't even count number.\")\n",
        "elif num==1:\n",
        "  print(\"I hope you're number one even in the order of death\")\n",
        "elif num==2:\n",
        "  print(\"be second, always\")\n",
        "elif num==3:\n",
        "  print(\"I hope you step on the lego\")\n",
        "elif num==4:\n",
        "  print(\"you look like poop\")\n",
        "else:\n",
        "  print(\"\")"
      ],
      "metadata": {
        "colab": {
          "base_uri": "https://localhost:8080/",
          "height": 112
        },
        "id": "8dHoccp_9suA",
        "outputId": "ba84d005-9764-462e-9e95-b791f502b8bd"
      },
      "execution_count": null,
      "outputs": [
        {
          "output_type": "error",
          "ename": "SyntaxError",
          "evalue": "invalid syntax (<ipython-input-43-86251dcf78d3>, line 6)",
          "traceback": [
            "\u001b[0;36m  File \u001b[0;32m\"<ipython-input-43-86251dcf78d3>\"\u001b[0;36m, line \u001b[0;32m6\u001b[0m\n\u001b[0;31m    elif num==1:\u001b[0m\n\u001b[0m    ^\u001b[0m\n\u001b[0;31mSyntaxError\u001b[0m\u001b[0;31m:\u001b[0m invalid syntax\n"
          ]
        }
      ]
    },
    {
      "cell_type": "markdown",
      "source": [
        "#Iteration"
      ],
      "metadata": {
        "id": "_kzaKmht_1YC"
      }
    },
    {
      "cell_type": "markdown",
      "source": [
        "###Task3"
      ],
      "metadata": {
        "id": "oqqLJ0c5_5ZS"
      }
    },
    {
      "cell_type": "code",
      "source": [
        "number=216\n",
        "ans=int(input(\"Guess a number\"))\n",
        "while ans!=number:\n",
        "  if ans>\n",
        "  number:\n",
        "    print(\"Down\")\n",
        "  else:\n",
        "    print(\"Up\")\n",
        "  ans=int(input(\"Try again!\"))\n",
        "print(\"You are right!\")"
      ],
      "metadata": {
        "colab": {
          "base_uri": "https://localhost:8080/"
        },
        "id": "ZUnSX1DX_1hq",
        "outputId": "2b028a2b-a6a4-4389-b48b-e94726019db7"
      },
      "execution_count": null,
      "outputs": [
        {
          "output_type": "stream",
          "name": "stdout",
          "text": [
            "Guess a number100\n",
            "Up\n",
            "Try again!300\n",
            "Down\n",
            "Try again!150\n",
            "Up\n",
            "Try again!175\n",
            "Up\n",
            "Try again!200\n",
            "Up\n",
            "Try again!250\n",
            "Down\n",
            "Try again!225\n",
            "Down\n",
            "Try again!213\n",
            "Up\n",
            "Try again!219\n",
            "Down\n",
            "Try again!216\n",
            "You are right!\n"
          ]
        }
      ]
    },
    {
      "cell_type": "markdown",
      "source": [
        "###Task Part 2"
      ],
      "metadata": {
        "id": "-hN6Jh-vBryp"
      }
    },
    {
      "cell_type": "code",
      "source": [
        "num=1\n",
        "# output multiples of 7\n",
        "while num<13:\n",
        "  print(num,'X 7 =', num*7)\n",
        "  num+=1\n"
      ],
      "metadata": {
        "colab": {
          "base_uri": "https://localhost:8080/"
        },
        "id": "XbYhRU4gBrC2",
        "outputId": "7d0b58bf-4f51-4920-f3c9-c78d030a12cc"
      },
      "execution_count": null,
      "outputs": [
        {
          "output_type": "stream",
          "name": "stdout",
          "text": [
            "1 X 7 = 7\n",
            "2 X 7 = 14\n",
            "3 X 7 = 21\n",
            "4 X 7 = 28\n",
            "5 X 7 = 35\n",
            "6 X 7 = 42\n",
            "7 X 7 = 49\n",
            "8 X 7 = 56\n",
            "9 X 7 = 63\n",
            "10 X 7 = 70\n",
            "11 X 7 = 77\n",
            "12 X 7 = 84\n"
          ]
        }
      ]
    },
    {
      "cell_type": "code",
      "source": [
        "limit, =int(input(\"Enter two number\"))\n",
        "num=1\n",
        "while num<=limit:\n",
        "  print(num,'X', limit,'=', num*limit)\n",
        "  num+=1"
      ],
      "metadata": {
        "id": "beiU0k1rCebf"
      },
      "execution_count": null,
      "outputs": []
    },
    {
      "cell_type": "markdown",
      "source": [
        "#Homework Challenge"
      ],
      "metadata": {
        "id": "uiQjMmGyEAIJ"
      }
    },
    {
      "cell_type": "code",
      "source": [
        "num=int(input(\"Enter a natural number \"))\n",
        "counter=1\n",
        "while counter<=num:\n",
        "  print(counter**3, end=' ')\n",
        "  counter+=1"
      ],
      "metadata": {
        "colab": {
          "base_uri": "https://localhost:8080/"
        },
        "id": "vezPyGyvEAQs",
        "outputId": "dc94cf51-ffe1-4695-e90a-0832770b08f4"
      },
      "execution_count": null,
      "outputs": [
        {
          "output_type": "stream",
          "name": "stdout",
          "text": [
            "Enter a natural number 41\n",
            "1 8 27 64 125 216 343 512 729 1000 1331 1728 2197 2744 3375 4096 4913 5832 6859 8000 9261 10648 12167 13824 15625 17576 19683 21952 24389 27000 29791 32768 35937 39304 42875 46656 50653 54872 59319 64000 68921 "
          ]
        }
      ]
    }
  ]
}