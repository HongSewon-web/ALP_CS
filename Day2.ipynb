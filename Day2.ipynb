{
  "nbformat": 4,
  "nbformat_minor": 0,
  "metadata": {
    "colab": {
      "provenance": [],
      "authorship_tag": "ABX9TyOVtd+FnTxQjOadO4VR9T6T",
      "include_colab_link": true
    },
    "kernelspec": {
      "name": "python3",
      "display_name": "Python 3"
    },
    "language_info": {
      "name": "python"
    }
  },
  "cells": [
    {
      "cell_type": "markdown",
      "metadata": {
        "id": "view-in-github",
        "colab_type": "text"
      },
      "source": [
        "<a href=\"https://colab.research.google.com/github/HongSewon-web/ALP_CS/blob/main/Day2.ipynb\" target=\"_parent\"><img src=\"https://colab.research.google.com/assets/colab-badge.svg\" alt=\"Open In Colab\"/></a>"
      ]
    },
    {
      "cell_type": "markdown",
      "source": [
        "#Day2"
      ],
      "metadata": {
        "id": "quFQSrFnxqNS"
      }
    },
    {
      "cell_type": "markdown",
      "source": [
        "#Iteration with a counter"
      ],
      "metadata": {
        "id": "-NyRv7KqxhfF"
      }
    },
    {
      "cell_type": "markdown",
      "source": [
        "###Task1\n"
      ],
      "metadata": {
        "id": "UOGwgG-Sxhi2"
      }
    },
    {
      "cell_type": "code",
      "source": [
        "counter=1\n",
        "while counter<=5:\n",
        "  print(\"this code is inside the loop\")\n",
        "  counter+=1\n",
        "  print(counter)\n",
        "print(\"The loop has finished\")"
      ],
      "metadata": {
        "colab": {
          "base_uri": "https://localhost:8080/"
        },
        "id": "_ywjpB0oxhsT",
        "outputId": "e08b6110-2b31-4874-8944-a651338c0a91"
      },
      "execution_count": 3,
      "outputs": [
        {
          "output_type": "stream",
          "name": "stdout",
          "text": [
            "this code is inside the loop\n",
            "2\n",
            "this code is inside the loop\n",
            "3\n",
            "this code is inside the loop\n",
            "4\n",
            "this code is inside the loop\n",
            "5\n",
            "this code is inside the loop\n",
            "6\n"
          ]
        }
      ]
    },
    {
      "cell_type": "markdown",
      "source": [
        "###Task2"
      ],
      "metadata": {
        "id": "8o0cQTCezf_p"
      }
    },
    {
      "cell_type": "code",
      "source": [
        "counter=int(input(\"Enter the countdown number!\"))\n",
        "while counter>0:\n",
        "  print(counter)\n",
        "  counter-=1\n",
        "print(\"Blast off!\")"
      ],
      "metadata": {
        "colab": {
          "base_uri": "https://localhost:8080/"
        },
        "id": "BXohEnBhzgHD",
        "outputId": "6eba52b2-4fd3-400c-c843-2ed6137b1a0c"
      },
      "execution_count": 7,
      "outputs": [
        {
          "output_type": "stream",
          "name": "stdout",
          "text": [
            "Enter the limit number!5\n",
            "5\n",
            "4\n",
            "3\n",
            "2\n",
            "1\n",
            "Blast off!\n"
          ]
        }
      ]
    },
    {
      "cell_type": "markdown",
      "source": [
        "###Task Predict Run\n",
        "\n"
      ],
      "metadata": {
        "id": "KZ-0eucA02aQ"
      }
    },
    {
      "cell_type": "code",
      "source": [
        "#Example 1\n",
        "correctUserName=\"Dave\"\n",
        "userName=input.lower((\"Please enter your user name\"))\n",
        "\n",
        "while userName!=correctUserName:\n",
        "  userName=input.lower((\"Invalid user name, please try again\"))\n",
        "\n",
        "print(\"Username accepted\")"
      ],
      "metadata": {
        "colab": {
          "base_uri": "https://localhost:8080/",
          "height": 224
        },
        "id": "oSmF26uX3haE",
        "outputId": "77f81c47-84e9-43ea-b4c4-4d07024397ca"
      },
      "execution_count": 210,
      "outputs": [
        {
          "output_type": "error",
          "ename": "AttributeError",
          "evalue": "'function' object has no attribute 'lower'",
          "traceback": [
            "\u001b[0;31m---------------------------------------------------------------------------\u001b[0m",
            "\u001b[0;31mAttributeError\u001b[0m                            Traceback (most recent call last)",
            "\u001b[0;32m<ipython-input-210-a4892d7b6e91>\u001b[0m in \u001b[0;36m<cell line: 3>\u001b[0;34m()\u001b[0m\n\u001b[1;32m      1\u001b[0m \u001b[0;31m#Example 1\u001b[0m\u001b[0;34m\u001b[0m\u001b[0;34m\u001b[0m\u001b[0m\n\u001b[1;32m      2\u001b[0m \u001b[0mcorrectUserName\u001b[0m\u001b[0;34m=\u001b[0m\u001b[0;34m\"Dave\"\u001b[0m\u001b[0;34m\u001b[0m\u001b[0;34m\u001b[0m\u001b[0m\n\u001b[0;32m----> 3\u001b[0;31m \u001b[0muserName\u001b[0m\u001b[0;34m=\u001b[0m\u001b[0minput\u001b[0m\u001b[0;34m.\u001b[0m\u001b[0mlower\u001b[0m\u001b[0;34m(\u001b[0m\u001b[0;34m(\u001b[0m\u001b[0;34m\"Please enter your user name\"\u001b[0m\u001b[0;34m)\u001b[0m\u001b[0;34m)\u001b[0m\u001b[0;34m\u001b[0m\u001b[0;34m\u001b[0m\u001b[0m\n\u001b[0m\u001b[1;32m      4\u001b[0m \u001b[0;34m\u001b[0m\u001b[0m\n\u001b[1;32m      5\u001b[0m \u001b[0;32mwhile\u001b[0m \u001b[0muserName\u001b[0m\u001b[0;34m!=\u001b[0m\u001b[0mcorrectUserName\u001b[0m\u001b[0;34m:\u001b[0m\u001b[0;34m\u001b[0m\u001b[0;34m\u001b[0m\u001b[0m\n",
            "\u001b[0;31mAttributeError\u001b[0m: 'function' object has no attribute 'lower'"
          ]
        }
      ]
    },
    {
      "cell_type": "markdown",
      "source": [
        "it would make errors, because input.lower(()) is not a correct syntax and also after we change it, as \"Dave\" contains upper case, the loop won't be finished.\n",
        "However if we change it all correct, then it will ask userName and until it matches with correctUserName, it tries again and again until it get correct userName."
      ],
      "metadata": {
        "id": "Rs4yiZ8D5pRh"
      }
    },
    {
      "cell_type": "code",
      "source": [
        "#right code\n",
        "correctUserName=\"dave\"\n",
        "userName=input(\"Please enter your user name\").lower()\n",
        "\n",
        "while userName!=correctUserName:\n",
        "  userName=input(\"Invalid user name, please try again\").lower()\n",
        "\n",
        "print(\"Username accepted\")"
      ],
      "metadata": {
        "colab": {
          "base_uri": "https://localhost:8080/"
        },
        "id": "2qVdVUHzG-f5",
        "outputId": "30cd49e7-44d7-4327-908b-c0c8aebba731"
      },
      "execution_count": 218,
      "outputs": [
        {
          "output_type": "stream",
          "name": "stdout",
          "text": [
            "Please enter your user namedfgf'\n",
            "Invalid user name, please try againDAVE\n",
            "Username accepted\n"
          ]
        }
      ]
    },
    {
      "cell_type": "code",
      "source": [
        "#Example 2\n",
        "num1=int(input(\"Enter a number between 1 and 10.\"))\n",
        "\n",
        "while num1<1 or num1>10:\n",
        "  num1=int(input(\"Invalid number,please try again\"))\n",
        "\n",
        "print(\"Input accepted\")"
      ],
      "metadata": {
        "colab": {
          "base_uri": "https://localhost:8080/"
        },
        "id": "SAJTMBSQ29qe",
        "outputId": "b7dd652e-63b2-46c5-c0c2-57c3ffabed79"
      },
      "execution_count": 215,
      "outputs": [
        {
          "output_type": "stream",
          "name": "stdout",
          "text": [
            "Enter a number between 1 and 10.52\n",
            "Invalid number,please try again5\n",
            "Input accepted\n"
          ]
        }
      ]
    },
    {
      "cell_type": "markdown",
      "source": [
        "###Task - Make 1"
      ],
      "metadata": {
        "id": "DM3aTOjp4UEs"
      }
    },
    {
      "cell_type": "code",
      "source": [
        "pass1=input(\"Please enter your password\")\n",
        "pass2=input(\"Please enter it again\")\n",
        "\n",
        "while pass1!=pass2:\n",
        "  pass1=input(\"Passwords do not match, please try again\")\n",
        "  pass2=input(\"Please enter it again\")\n",
        "print(\"Passwords accepted\")"
      ],
      "metadata": {
        "colab": {
          "base_uri": "https://localhost:8080/"
        },
        "id": "wiBVcQEK4Tao",
        "outputId": "0b309f98-abcd-4f37-cca2-8486ddd3dc4d"
      },
      "execution_count": 11,
      "outputs": [
        {
          "output_type": "stream",
          "name": "stdout",
          "text": [
            "Please enter your passwordPd37mc\n",
            "Please enter it againPd37Mc\n",
            "Passwords do not match, please try againPd37Mc\n",
            "Please enter it againPd37Mc\n",
            "Passwords accepted\n"
          ]
        }
      ]
    },
    {
      "cell_type": "markdown",
      "source": [
        "#Lists"
      ],
      "metadata": {
        "id": "klNdL4A-6tja"
      }
    },
    {
      "cell_type": "markdown",
      "source": [
        "Task 2&3"
      ],
      "metadata": {
        "id": "IHCTdtYS9dwV"
      }
    },
    {
      "cell_type": "code",
      "source": [
        "fruit =[\"Apple\",\"Banana\",\"Orange\",\"Strawberry\",\"Melon\",\"Watermelon\",\"Grape\"]\n",
        "print(fruit[3])\n",
        "print(fruit)\n",
        "print(fruit[int(input(\"input a number between 0 and 6 \"))])"
      ],
      "metadata": {
        "colab": {
          "base_uri": "https://localhost:8080/"
        },
        "id": "T0HrF1t06twE",
        "outputId": "9fadc7a5-915b-431c-e827-df0153042793"
      },
      "execution_count": 20,
      "outputs": [
        {
          "output_type": "stream",
          "name": "stdout",
          "text": [
            "Strawberry\n",
            "['Apple', 'Banana', 'Orange', 'Strawberry', 'Melon', 'Watermelon', 'Grape']\n",
            "input a number between 0 and 6 5\n",
            "Watermelon\n",
            "['Banana', 'Orange', 'Strawberry', 'Melon', 'Watermelon', 'Grape']\n"
          ]
        }
      ]
    },
    {
      "cell_type": "markdown",
      "source": [
        "###Task List Assignment 1"
      ],
      "metadata": {
        "id": "WThcdp8g_Ofq"
      }
    },
    {
      "cell_type": "code",
      "source": [
        "countries=[\"UK\",\"USA\",\"Chad\",\"Austrailia\",\"Thailand\"]\n",
        "countries[3]=\"Mexico\"\n",
        "#0,1,2,3 so fourth country of list countries turns into \"Mexico\"\n",
        "countries[0]=\"Iceland\"\n",
        "#first country of list countries turns into \"Iceland\"\n",
        "countries[1]=countries[4]\n",
        "#0,1 so second country of list countries turns into \"Thailand\", which is on fourth index, 0,1,2,3,4\n",
        "#[\"Iceland\",\"Thailand\",\"Chad\",\"Mexico\",\"Thailand\"]\n",
        "print(countries)"
      ],
      "metadata": {
        "colab": {
          "base_uri": "https://localhost:8080/"
        },
        "id": "B8JNxgVV_OoI",
        "outputId": "1bb4a067-84fb-48b9-c0e6-c5f78128ec04"
      },
      "execution_count": 209,
      "outputs": [
        {
          "output_type": "stream",
          "name": "stdout",
          "text": [
            "['Iceland', 'Thailand', 'Chad', 'Mexico', 'Thailand']\n"
          ]
        }
      ]
    },
    {
      "cell_type": "markdown",
      "source": [],
      "metadata": {
        "id": "Mq0reQ1IFaxs"
      }
    },
    {
      "cell_type": "markdown",
      "source": [
        "###Task List Assignment 2"
      ],
      "metadata": {
        "id": "4bUgDvV1_zrc"
      }
    },
    {
      "cell_type": "code",
      "source": [
        "squareNumbers=[1,4,9,16,25,36]\n",
        "squareNumbers[5]=49\n",
        "#0,1,2,3,4,5 so sixth number turns into 49\n",
        "squareNumbers[0]+=1\n",
        "#as it means squareNumbers[0]=squareNumbers[0]+1, first number in list squareNumbers, 1, gets +1, so become 2\n",
        "total=squareNumbers[3]-squareNumbers[1]\n",
        "#the variable, total, gets the value of squareNumbers[3]-squareNumbers[1], which is 16(squareNumbers[3])-4(squareNumbers[1]), so 12\n",
        "#[2,4,9,16,25,49]\n",
        "print(squareNumbers)"
      ],
      "metadata": {
        "colab": {
          "base_uri": "https://localhost:8080/"
        },
        "id": "c7yXkhFp_1n3",
        "outputId": "f3347a3b-3345-4424-9992-601eb9045138"
      },
      "execution_count": 225,
      "outputs": [
        {
          "output_type": "stream",
          "name": "stdout",
          "text": [
            "[2, 4, 9, 16, 25, 49]\n"
          ]
        }
      ]
    },
    {
      "cell_type": "markdown",
      "source": [
        "\n",
        "###Task Add & Remove From A List 1"
      ],
      "metadata": {
        "id": "m_fWOc5x_1y4"
      }
    },
    {
      "cell_type": "code",
      "source": [
        "food=[\"bacon\",\"cheese\",\"pasta\",\"beans\"]\n",
        "\n",
        "food.append(\"tomatoes\")\n",
        "#put \"tomatoes\" to the end of the list\n",
        "food.insert(1,\"ice cream\")\n",
        "#put \"ice cream\" in index 1, and others with index between 1 and 4 move backward 1\n",
        "food.remove(\"cheese\")\n",
        "#\"cheese\" is removed from the list\n",
        "food.pop()\n",
        "#the last index thing gets rid of\n",
        "#[\"bacon\",\"ice cream\",\"pasta\",\"beans\"]\n",
        "print(food)"
      ],
      "metadata": {
        "colab": {
          "base_uri": "https://localhost:8080/"
        },
        "id": "3xCLv4KDAfKE",
        "outputId": "7f3a478d-b42b-40ff-aabb-85ab5d9fea53"
      },
      "execution_count": 21,
      "outputs": [
        {
          "output_type": "stream",
          "name": "stdout",
          "text": [
            "['bacon', 'ice cream', 'pasta', 'beans']\n"
          ]
        }
      ]
    },
    {
      "cell_type": "markdown",
      "source": [
        "Homework Challenge - Beat The Zombie!"
      ],
      "metadata": {
        "id": "AGUYJTKKBm4b"
      }
    },
    {
      "cell_type": "code",
      "source": [
        "def choose_in_list():\n",
        "  userWeapon=input(\"enter the weapon name\").lower()\n",
        "  if userWeapon not in weapons:\n",
        "    return \"Zombies attacked while you entered invalid weapon. you died.\"\n",
        "  if userWeapon in zombieWeakness:\n",
        "    return\"You killed the zombie, you survived.\"\n",
        "  return f\"You chose wrong weapon, {userWeapon} was too weak to beat the zombies. You died.\"\n",
        "def choose_your_own():\n",
        "  weapons.append(input(\"enter your own weapon\").lower())\n",
        "  if weapons[-1] in zombieWeakness:\n",
        "    return \"You killed the zombie, you survived.\"\n",
        "  return f\"You chose wrong weapon, {weapons[-1]} was too weak to beat the zombies. You died.\"\n",
        "weapons=[\"pan\",\"gun\",\"knife\",\"chainsaw\",\"bat\", \"hammer\",\"chair\"]\n",
        "zombieWeakness=[\"gun\",\"flamethrower\"]\n",
        "print(\"You encounters a group of zombies. You should prepare to fight\")\n",
        "print(weapons)\n",
        "ans=input(\"if you type 1, you can use one from the list. If you type 2, you can pick your own. \")\n",
        "if ans=='1':\n",
        "  print(choose_in_list())\n",
        "elif ans=='2':\n",
        "  print(choose_your_own())\n",
        "else:\n",
        "  print(\"Zombies attacked while you entered invalid answer. You died.\")"
      ],
      "metadata": {
        "colab": {
          "base_uri": "https://localhost:8080/"
        },
        "id": "sGLF_tgNBnBQ",
        "outputId": "493fc4ea-d677-493f-827b-5f2fa0d3cf45"
      },
      "execution_count": 42,
      "outputs": [
        {
          "output_type": "stream",
          "name": "stdout",
          "text": [
            "You encounters a group of zombies. You should prepare to fight\n",
            "['pan', 'gun', 'knife', 'chainsaw', 'bat', 'hammer', 'chair']\n",
            "if you type 1, you can use one from the list. If you type 2, you can pick your own. 2\n",
            "enter your own weaponclock\n",
            "You chose wrong weapon, clock was too weak to beat the zombies. You died.\n"
          ]
        }
      ]
    },
    {
      "cell_type": "markdown",
      "source": [
        "#functions/Subroutines"
      ],
      "metadata": {
        "id": "WqZcV5d4InNp"
      }
    },
    {
      "cell_type": "markdown",
      "source": [
        "###Independent Challenge - Calculator"
      ],
      "metadata": {
        "id": "wznfdlHqKcXR"
      }
    },
    {
      "cell_type": "code",
      "source": [
        "def add(num1,num2):\n",
        "  return num1+num2\n",
        "def subtract(num1,num2):\n",
        "  return num1-num2\n",
        "def multiply(num1,num2):\n",
        "  return num1*num2\n",
        "def divide(num1,num2):\n",
        "  if num2==0:\n",
        "    return \"Invalid-Cannot divide by zero\"\n",
        "  return num1/num2\n",
        "n,m=map(int,input(\"Enter two numbers\").split())\n",
        "ans=int(input(\"enter 1 to add, 2 to subtract, 3 to multiply, and 4 to divide\"))\n",
        "calculator=[add,subtract,multiply,divide]\n",
        "print(calculator[ans-1](n,m))"
      ],
      "metadata": {
        "colab": {
          "base_uri": "https://localhost:8080/"
        },
        "id": "JF9SUrD7LqnI",
        "outputId": "7ff0ae8a-5f79-4ad0-d573-642190e526f9"
      },
      "execution_count": 51,
      "outputs": [
        {
          "output_type": "stream",
          "name": "stdout",
          "text": [
            "Enter two numbers2 5\n",
            "enter 1 to add, 2 to subtract, 3 to multiply, and 4 to divide2\n",
            "-3\n"
          ]
        }
      ]
    },
    {
      "cell_type": "markdown",
      "source": [
        "#File"
      ],
      "metadata": {
        "id": "rBgwHHs6pChY"
      }
    },
    {
      "cell_type": "code",
      "source": [
        "#reading\n",
        "myFile=open(\"text.txt\",\"r\")\n",
        "for line in myFile:\n",
        "  print(line)\n",
        "myFile.close()"
      ],
      "metadata": {
        "colab": {
          "base_uri": "https://localhost:8080/"
        },
        "id": "KyP3kJOWpCrt",
        "outputId": "06738f59-cc11-418a-8d7c-2138795f0e19"
      },
      "execution_count": 142,
      "outputs": [
        {
          "output_type": "stream",
          "name": "stdout",
          "text": [
            "Hello world\n"
          ]
        }
      ]
    },
    {
      "cell_type": "code",
      "source": [
        "#writing\n",
        "myFile=open(\"text.txt\",\"w\")\n",
        "myFile.write(\"Hello world\")\n",
        "myFile.close()"
      ],
      "metadata": {
        "id": "if9hmesqqG0K"
      },
      "execution_count": 221,
      "outputs": []
    },
    {
      "cell_type": "code",
      "source": [
        "#append\n",
        "myFile=open(\"text.txt\",\"a\")\n",
        "myFile.write(\"How are you? \\n\")\n",
        "myFile.close()"
      ],
      "metadata": {
        "id": "sl2Xi7qBqG6Z"
      },
      "execution_count": 222,
      "outputs": []
    },
    {
      "cell_type": "code",
      "source": [
        "def paragraph(text):\n",
        "  myFile=open(\"text.txt\",\"a\")\n",
        "  myFile.write(text)\n",
        "  myFile.close()\n",
        "  myFile=open(\"text.txt\",\"r\")\n",
        "  for line in myFile:\n",
        "    print(line)\n",
        "  myFile.close()\n",
        "text=\"\\n Wisconsin (/wɪˈskɒnsɪn/ ⓘ wisk-ON-sin)[13] is a state in the Great Lakes \\n region of the Upper Midwest of the United States. It borders Minnesota to the west,\\n Iowa to the southwest, Illinois to the south, Lake Michigan to \\n the east, Michigan to the northeast, and Lake Superior to the north. \\n Wisconsin is the 25th-largest state by land area and the 20th-most populous. It is divided into 72 counties \\n and as of the 2020 census had a population of nearly 5.9 million.[14] Its most populous city \\n is Milwaukee, while its capital and second-most populous city is \\n Madison. Other large population centers \\n include Green Bay, \\n Kenosha, Racine, and the Fox Cities.[15] \\n Wisconsin's geography is diverse, having \\n been greatly impacted by glaciers during the \\n Ice Age with the exception of the Driftless Area.\\n The Northern Highland and Western \\n Upland along with a part of \\n the Central Plain occupy the western \\n part of the state, with lowlands \\n  stretching to the shore of Lake Michigan. \\n Wisconsin is third to Ontario \\n and Michigan in the length of its Great \\n Lakes coastline. The northern portion of the \\n state is home to the Chequamegon-Nicolet \\n National Forest. At the time of European \\n contact, the area was inhabited by Algonquian \\n and Siouan nations, and today it is home to eleven \\n federally recognized tribes.[16] During the 19th \\n and early 20th centuries, many European settlers entered \\n the state, most of whom emigrated from Germany \\n and Scandinavia.[17][18] Wisconsin remains a \\n center of German American and Scandinavian \\n American culture,[19] particularly in respect \\n to its cuisine, with foods such as bratwurst \\n and kringle.\"\n",
        "paragraph(text)\n",
        "text2=\" ^^This is a different text\""
      ],
      "metadata": {
        "colab": {
          "base_uri": "https://localhost:8080/"
        },
        "id": "55iQoBwIsEJL",
        "outputId": "3b3a94d8-e24d-429e-c7f1-24e4ff69bca1"
      },
      "execution_count": 223,
      "outputs": [
        {
          "output_type": "stream",
          "name": "stdout",
          "text": [
            "Hello worldHow are you? \n",
            "\n",
            "\n",
            "\n",
            " Wisconsin (/wɪˈskɒnsɪn/ ⓘ wisk-ON-sin)[13] is a state in the Great Lakes \n",
            "\n",
            " region of the Upper Midwest of the United States. It borders Minnesota to the west,\n",
            "\n",
            " Iowa to the southwest, Illinois to the south, Lake Michigan to \n",
            "\n",
            " the east, Michigan to the northeast, and Lake Superior to the north. \n",
            "\n",
            " Wisconsin is the 25th-largest state by land area and the 20th-most populous. It is divided into 72 counties \n",
            "\n",
            " and as of the 2020 census had a population of nearly 5.9 million.[14] Its most populous city \n",
            "\n",
            " is Milwaukee, while its capital and second-most populous city is \n",
            "\n",
            " Madison. Other large population centers \n",
            "\n",
            " include Green Bay, \n",
            "\n",
            " Kenosha, Racine, and the Fox Cities.[15] \n",
            "\n",
            " Wisconsin's geography is diverse, having \n",
            "\n",
            " been greatly impacted by glaciers during the \n",
            "\n",
            " Ice Age with the exception of the Driftless Area.\n",
            "\n",
            " The Northern Highland and Western \n",
            "\n",
            " Upland along with a part of \n",
            "\n",
            " the Central Plain occupy the western \n",
            "\n",
            " part of the state, with lowlands \n",
            "\n",
            "  stretching to the shore of Lake Michigan. \n",
            "\n",
            " Wisconsin is third to Ontario \n",
            "\n",
            " and Michigan in the length of its Great \n",
            "\n",
            " Lakes coastline. The northern portion of the \n",
            "\n",
            " state is home to the Chequamegon-Nicolet \n",
            "\n",
            " National Forest. At the time of European \n",
            "\n",
            " contact, the area was inhabited by Algonquian \n",
            "\n",
            " and Siouan nations, and today it is home to eleven \n",
            "\n",
            " federally recognized tribes.[16] During the 19th \n",
            "\n",
            " and early 20th centuries, many European settlers entered \n",
            "\n",
            " the state, most of whom emigrated from Germany \n",
            "\n",
            " and Scandinavia.[17][18] Wisconsin remains a \n",
            "\n",
            " center of German American and Scandinavian \n",
            "\n",
            " American culture,[19] particularly in respect \n",
            "\n",
            " to its cuisine, with foods such as bratwurst \n",
            "\n",
            " and kringle.\n"
          ]
        }
      ]
    },
    {
      "cell_type": "markdown",
      "source": [
        "# For loops\n"
      ],
      "metadata": {
        "id": "nKH3K07dw1_l"
      }
    },
    {
      "cell_type": "code",
      "source": [
        "for i in range(5):\n",
        "  counter+=1\n",
        "  print(counter)\n"
      ],
      "metadata": {
        "colab": {
          "base_uri": "https://localhost:8080/"
        },
        "id": "MH7629iWwgq3",
        "outputId": "896ccedc-d5ed-4ff0-b8de-49a3089b6808"
      },
      "execution_count": 224,
      "outputs": [
        {
          "output_type": "stream",
          "name": "stdout",
          "text": [
            "1\n",
            "2\n",
            "3\n",
            "4\n",
            "5\n"
          ]
        }
      ]
    }
  ]
}