{
  "nbformat": 4,
  "nbformat_minor": 0,
  "metadata": {
    "colab": {
      "provenance": [],
      "include_colab_link": true
    },
    "kernelspec": {
      "name": "python3",
      "display_name": "Python 3"
    },
    "language_info": {
      "name": "python"
    }
  },
  "cells": [
    {
      "cell_type": "markdown",
      "metadata": {
        "id": "view-in-github",
        "colab_type": "text"
      },
      "source": [
        "<a href=\"https://colab.research.google.com/github/HongSewon-web/ALP_CS/blob/main/Ceaser_Shift.ipynb\" target=\"_parent\"><img src=\"https://colab.research.google.com/assets/colab-badge.svg\" alt=\"Open In Colab\"/></a>"
      ]
    },
    {
      "cell_type": "markdown",
      "source": [
        "#Ceaser Shift\n",
        "\n",
        "This is a simple cipher read more [here](https://en.wikipedia.org/wiki/Caesar_cipher). Find out how the cipher works and then try to code it.\n",
        "\n",
        "Below you will find a simple version of the code. It is not as sophisticated as it has a lot of limitations but try to give it a go and solve it.\n",
        "\n",
        "Find out what the mod does in python."
      ],
      "metadata": {
        "id": "11Mf7GhuTuEY"
      }
    },
    {
      "cell_type": "code",
      "source": [
        "# Try putting % between two numbers. Can you figure out what operation does the % symbol reponsible for?\n",
        "#E.g.\n",
        "print(3%5)\n",
        "#remain for the division"
      ],
      "metadata": {
        "colab": {
          "base_uri": "https://localhost:8080/"
        },
        "id": "T_vmEKNUWdwv",
        "outputId": "c77a1ba3-0228-4b55-f6bc-a3c63117e090"
      },
      "execution_count": 35,
      "outputs": [
        {
          "output_type": "stream",
          "name": "stdout",
          "text": [
            "3\n"
          ]
        }
      ]
    },
    {
      "cell_type": "code",
      "execution_count": 36,
      "metadata": {
        "id": "mphIKssQTrhx"
      },
      "outputs": [],
      "source": [
        "alpha = \"ABCDEFGHIJKLMNOPQRSTUVWXYZ \"\n",
        "\n",
        "def caesar_encode(text, n):\n",
        "    answerList = []\n",
        "    for letter in text:\n",
        "        ind = alpha.index(letter)\n",
        "        ind -= n\n",
        "        ind %= len(alpha)\n",
        "        answerList.append(alpha[ind])\n",
        "    return \"\".join(answerList)\n",
        "\n",
        "def caesar_decode(text, n):\n",
        "    answerList = []\n",
        "    for letter in text:\n",
        "        ind =alpha.index(letter)\n",
        "        ind += n\n",
        "        ind %=len(alpha)\n",
        "        answerList.append(alpha[ind])\n",
        "    return \"\".join(answerList)\n",
        "\n",
        "test = \"HELLO WORLD\"\n",
        "shift = 5\n"
      ]
    },
    {
      "cell_type": "markdown",
      "source": [
        "##Encode"
      ],
      "metadata": {
        "id": "e7iqfr1vUjHo"
      }
    },
    {
      "cell_type": "code",
      "source": [
        "enc = caesar_encode(test, shift)\n",
        "print(enc)"
      ],
      "metadata": {
        "colab": {
          "base_uri": "https://localhost:8080/"
        },
        "id": "xUgikMWaUN5N",
        "outputId": "16318bf7-0e31-4306-ce43-192a04a7895e"
      },
      "execution_count": 37,
      "outputs": [
        {
          "output_type": "stream",
          "name": "stdout",
          "text": [
            "C GGJVRJMGZ\n"
          ]
        }
      ]
    },
    {
      "cell_type": "markdown",
      "source": [
        "##Decode\n",
        "\n",
        "complete the missing code."
      ],
      "metadata": {
        "id": "gflev3gAUeDI"
      }
    },
    {
      "cell_type": "code",
      "source": [
        "\n",
        "dec = caesar_decode(enc, shift)\n",
        "print(dec)"
      ],
      "metadata": {
        "colab": {
          "base_uri": "https://localhost:8080/"
        },
        "id": "GcRnbg3EUdQa",
        "outputId": "7fb1e100-269f-408c-f326-66ce339afb68"
      },
      "execution_count": 38,
      "outputs": [
        {
          "output_type": "stream",
          "name": "stdout",
          "text": [
            "HELLO WORLD\n"
          ]
        }
      ]
    },
    {
      "cell_type": "markdown",
      "source": [
        "1. Make a version of the Cipher where you involve the user to encode and decode. You can make use of the input command.\n",
        "2. What if you wanted the cipher to include spaces and numbers? How would you change it? Try it.\n",
        "3. Can you make this into a sub routine?"
      ],
      "metadata": {
        "id": "3cXWwMu6XEBw"
      }
    },
    {
      "cell_type": "code",
      "source": [
        "#1\n",
        "text=input(\"Enter text for encoding \").upper()\n",
        "print(caesar_encode(text,shift))\n",
        "text=input(\"Enter text for decoding \").upper()\n",
        "print(caesar_decode(text,shift))"
      ],
      "metadata": {
        "id": "WyT7h4qaXyHg",
        "colab": {
          "base_uri": "https://localhost:8080/"
        },
        "outputId": "e9fd0800-2701-4390-a61d-d729afcf34f8"
      },
      "execution_count": 39,
      "outputs": [
        {
          "output_type": "stream",
          "name": "stdout",
          "text": [
            "Enter text for encoding hello how are you fine thank you and you\n",
            "C GGJVCJRVWM VTJPVADI VOCWIFVTJPVWIZVTJP\n",
            "Enter text for decoding C GGJVCJRVWM VTJPVADI VOCWIFVTJPVWIZVTJP\n",
            "HELLO HOW ARE YOU FINE THANK YOU AND YOU\n"
          ]
        }
      ]
    },
    {
      "cell_type": "code",
      "source": [
        "#2\n",
        "alpha=\"ABCDEFGHIJKLMNOPQRSTUVWXYZ1234567890 \"\n",
        "test = \"HELLO WORLD MY BIRTHDAY IS 0829\"\n",
        "shift = 5\n",
        "enc = caesar_encode(test, shift)\n",
        "print(enc)\n",
        "dec = caesar_decode(enc, shift)\n",
        "print(dec)"
      ],
      "metadata": {
        "colab": {
          "base_uri": "https://localhost:8080/"
        },
        "id": "doWKFjW9RFiI",
        "outputId": "01f5c988-8202-4b26-af44-7f608a8006d7"
      },
      "execution_count": 25,
      "outputs": [
        {
          "output_type": "stream",
          "name": "stdout",
          "text": [
            "C GGJ6RJMG06HT68DMOC07T6DN653W4\n",
            "HELLO WORLD MY BIRTHDAY IS 0829\n"
          ]
        }
      ]
    },
    {
      "cell_type": "code",
      "source": [
        "#3\n",
        "def caesar_encode_num(text, n, alpha):\n",
        "    answerList = []\n",
        "    for letter in text:\n",
        "        ind = alpha.index(letter)\n",
        "        ind -= n\n",
        "        ind %= len(alpha)\n",
        "        answerList.append(alpha[ind])\n",
        "    return \"\".join(answerList)\n",
        "\n",
        "def caesar_decode_num(text, n, alpha):\n",
        "    answerList = []\n",
        "    for letter in text:\n",
        "        ind =alpha.index(letter)\n",
        "        ind += n\n",
        "        ind %=len(alpha)\n",
        "        answerList.append(alpha[ind])\n",
        "    return \"\".join(answerList)\n",
        "\n",
        "test=input(\"Enter text \").upper()\n",
        "alpha=\"ABCDEFGHIJKLMNOPQRSTUVWXYZ1234567890 \"\n",
        "enc = caesar_encode_num(test, shift, alpha)\n",
        "print(enc)\n",
        "print(caesar_decode_num(enc, shift,alpha))\n",
        "\n",
        "alpha=\"8QWE2R0TY1UIOP5ASD6FGH3JKL4ZXC7VBN9M \"\n",
        "enc = caesar_encode_num(test, shift, alpha)\n",
        "print(enc)\n",
        "print(caesar_decode_num(enc, shift,alpha))"
      ],
      "metadata": {
        "colab": {
          "base_uri": "https://localhost:8080/"
        },
        "id": "X8smrtpmRF0O",
        "outputId": "5b0601e2-7f9e-4df7-d61e-3e724a2eada9"
      },
      "execution_count": 31,
      "outputs": [
        {
          "output_type": "stream",
          "name": "stdout",
          "text": [
            "Enter text hello im sewon and im 17 years old my birthday is 20070829 happy 7 4th\n",
            "C GGJ6DH6N RJI67I06DH6V26T 7MN6JG06HT68DMOC07T6DN6W55253W46C7KKT626YOC\n",
            "HELLO IM SEWON AND IM 17 YEARS OLD MY BIRTHDAY IS 20070829 HAPPY 7 4TH\n",
            "SMGGTV07VIM9TXVUXOV07V2LVEMU8IVTGOV7EVZ08WSOUEV0IV QQLQB CVSUYYEVLVHWS\n",
            "HELLO IM SEWON AND IM 17 YEARS OLD MY BIRTHDAY IS 20070829 HAPPY 7 4TH\n"
          ]
        }
      ]
    }
  ]
}